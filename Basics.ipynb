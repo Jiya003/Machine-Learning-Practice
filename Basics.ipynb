{
 "cells": [
  {
   "cell_type": "markdown",
   "id": "4d32a360-ca77-4c43-b75e-1a65a5190353",
   "metadata": {},
   "source": [
    "## Handling Missing values"
   ]
  },
  {
   "cell_type": "code",
   "execution_count": 2,
   "id": "9b6b3dfc-bab9-4035-8591-f5570506b89c",
   "metadata": {},
   "outputs": [
    {
     "name": "stdout",
     "output_type": "stream",
     "text": [
      "Original DataFrame:\n",
      "     A    B    C\n",
      "0  1.0  NaN  1.0\n",
      "1  2.0  2.0  NaN\n",
      "2  NaN  3.0  NaN\n",
      "3  4.0  4.0  4.0\n"
     ]
    }
   ],
   "source": [
    "#Missing Values\n",
    "import pandas as pd\n",
    "\n",
    "# Example DataFrame\n",
    "data = {'A': [1, 2, None, 4], 'B': [None, 2, 3, 4], 'C': [1, None, None, 4]}\n",
    "df = pd.DataFrame(data)\n",
    "\n",
    "# Original DataFrame\n",
    "print(\"Original DataFrame:\")\n",
    "print(df)"
   ]
  },
  {
   "cell_type": "code",
   "execution_count": 4,
   "id": "9b934939-09d0-467b-b59d-6f3c52334362",
   "metadata": {},
   "outputs": [
    {
     "name": "stdout",
     "output_type": "stream",
     "text": [
      "\n",
      "DataFrame after dropping rows with any missing values:\n",
      "     A    B    C\n",
      "3  4.0  4.0  4.0\n"
     ]
    }
   ],
   "source": [
    "# Dropping rows with any missing values\n",
    "df_cleaned_rows = df.dropna()\n",
    "print(\"\\nDataFrame after dropping rows with any missing values:\")\n",
    "print(df_cleaned_rows)"
   ]
  },
  {
   "cell_type": "code",
   "execution_count": 6,
   "id": "ab2eea9b-c1fc-47f7-a1a3-7fd4310a26ce",
   "metadata": {},
   "outputs": [
    {
     "name": "stdout",
     "output_type": "stream",
     "text": [
      "\n",
      "DataFrame after dropping columns with any missing values:\n",
      "Empty DataFrame\n",
      "Columns: []\n",
      "Index: [0, 1, 2, 3]\n"
     ]
    }
   ],
   "source": [
    "# Dropping columns with any missing values\n",
    "df_cleaned_columns = df.dropna(axis=1)\n",
    "print(\"\\nDataFrame after dropping columns with any missing values:\")\n",
    "print(df_cleaned_columns)"
   ]
  },
  {
   "cell_type": "code",
   "execution_count": 8,
   "id": "c3d62689-dbd8-4615-b68f-1125a811fa24",
   "metadata": {},
   "outputs": [
    {
     "name": "stdout",
     "output_type": "stream",
     "text": [
      "\n",
      "DataFrame after filling missing values with 0:\n",
      "     A    B    C\n",
      "0  1.0  0.0  1.0\n",
      "1  2.0  2.0  0.0\n",
      "2  0.0  3.0  0.0\n",
      "3  4.0  4.0  4.0\n"
     ]
    }
   ],
   "source": [
    "# Filling missing values with a specific value (e.g., 0)\n",
    "df_filled = df.fillna(0)\n",
    "print(\"\\nDataFrame after filling missing values with 0:\")\n",
    "print(df_filled)\n"
   ]
  },
  {
   "cell_type": "code",
   "execution_count": 10,
   "id": "44f90856-d856-41ea-a90a-72861d135184",
   "metadata": {},
   "outputs": [
    {
     "name": "stdout",
     "output_type": "stream",
     "text": [
      "\n",
      "DataFrame after filling missing values with the mean of the column:\n",
      "          A    B    C\n",
      "0  1.000000  3.0  1.0\n",
      "1  2.000000  2.0  2.5\n",
      "2  2.333333  3.0  2.5\n",
      "3  4.000000  4.0  4.0\n"
     ]
    }
   ],
   "source": [
    "# Filling missing values with the mean of the column\n",
    "df_filled_mean = df.fillna(df.mean())\n",
    "print(\"\\nDataFrame after filling missing values with the mean of the column:\")\n",
    "print(df_filled_mean)"
   ]
  },
  {
   "cell_type": "code",
   "execution_count": 12,
   "id": "f911f6bd-7f35-4440-bfc9-5c3863ae17a8",
   "metadata": {},
   "outputs": [],
   "source": [
    "# Handling Duplicate Rows\n",
    "import pandas as pd\n",
    "\n",
    "# Example DataFrame\n",
    "data = {'A': [1, 2, 2, 4], 'B': [1, 2, 2, 4], 'C': [1, 2, 2, 4]}\n",
    "df = pd.DataFrame(data)"
   ]
  },
  {
   "cell_type": "code",
   "execution_count": 14,
   "id": "12ecc6aa-be44-405b-8fef-d5b3781aecea",
   "metadata": {},
   "outputs": [
    {
     "name": "stdout",
     "output_type": "stream",
     "text": [
      "Original DataFrame:\n",
      "   A  B  C\n",
      "0  1  1  1\n",
      "1  2  2  2\n",
      "2  2  2  2\n",
      "3  4  4  4\n"
     ]
    }
   ],
   "source": [
    "# Original DataFrame\n",
    "print(\"Original DataFrame:\")\n",
    "print(df)"
   ]
  },
  {
   "cell_type": "code",
   "execution_count": 16,
   "id": "852aafd8-d3e5-4e76-9495-d0dae200e1f2",
   "metadata": {},
   "outputs": [
    {
     "name": "stdout",
     "output_type": "stream",
     "text": [
      "\n",
      "Duplicate Rows:\n",
      "   A  B  C\n",
      "2  2  2  2\n"
     ]
    }
   ],
   "source": [
    "# Identifying duplicate rows\n",
    "duplicate_rows = df[df.duplicated()]\n",
    "print(\"\\nDuplicate Rows:\")\n",
    "print(duplicate_rows)"
   ]
  },
  {
   "cell_type": "code",
   "execution_count": 18,
   "id": "f935ba85-de58-4932-994e-69e8103cdd71",
   "metadata": {},
   "outputs": [
    {
     "name": "stdout",
     "output_type": "stream",
     "text": [
      "\n",
      "DataFrame after removing duplicate rows:\n",
      "   A  B  C\n",
      "0  1  1  1\n",
      "1  2  2  2\n",
      "3  4  4  4\n"
     ]
    }
   ],
   "source": [
    "# Removing duplicate rows\n",
    "df_no_duplicates = df.drop_duplicates()\n",
    "print(\"\\nDataFrame after removing duplicate rows:\")\n",
    "print(df_no_duplicates)"
   ]
  },
  {
   "cell_type": "markdown",
   "id": "73e98484-18b2-482f-adf0-3f092a4149ff",
   "metadata": {},
   "source": [
    "## Handling Outliers\n",
    "\n",
    "Identifying Outliers Before handling outliers, you need to identify them. Common methods include:\n",
    "\n",
    "Z-Score: Data points with a Z-score greater than 3 or less than -3 are often considered outliers.\n",
    "\n",
    "IQR (Interquartile Range): Data points that fall below 𝑄 1 − 1.5 × 𝐼 𝑄 𝑅 Q1−1.5×IQR or above 𝑄 3 + 1.5 × 𝐼 𝑄 𝑅 Q3+1.5×IQR are considered outliers.\n",
    "\n",
    "Visualization: Use box plots, scatter plots."
   ]
  },
  {
   "cell_type": "code",
   "execution_count": 24,
   "id": "e7e5550e-7992-4a8a-9fce-76fee22e0547",
   "metadata": {},
   "outputs": [],
   "source": [
    "import pandas as pd\n",
    "import numpy as np\n",
    "from scipy import stats\n"
   ]
  },
  {
   "cell_type": "code",
   "execution_count": 26,
   "id": "7e0888fb-0cbd-49da-a723-87b9e0be5c0a",
   "metadata": {},
   "outputs": [
    {
     "name": "stdout",
     "output_type": "stream",
     "text": [
      "Original DataFrame:\n",
      "      A  B\n",
      "0     1  2\n",
      "1     2  3\n",
      "2     3  4\n",
      "3  1000  5\n"
     ]
    }
   ],
   "source": [
    "# Example DataFrame\n",
    "data = {'A': [1, 2, 3, 1000], 'B': [2, 3, 4, 5]}\n",
    "df = pd.DataFrame(data)\n",
    "\n",
    "# Original DataFrame\n",
    "print(\"Original DataFrame:\")\n",
    "print(df)"
   ]
  },
  {
   "cell_type": "code",
   "execution_count": 28,
   "id": "333b64cf-7679-42b0-9b8b-a965f1ed9df7",
   "metadata": {},
   "outputs": [
    {
     "name": "stdout",
     "output_type": "stream",
     "text": [
      "\n",
      "Z-scores for each data point:\n",
      "          A         B\n",
      "0  0.579664  1.341641\n",
      "1  0.577349  0.447214\n",
      "2  0.575035  0.447214\n",
      "3  1.732048  1.341641\n"
     ]
    }
   ],
   "source": [
    "# Detecting outliers using the Z-score\n",
    "z_scores = np.abs(stats.zscore(df)) #The function np.abs() is used to get the absolute values of the Z-scores\n",
    "print(\"\\nZ-scores for each data point:\")\n",
    "print(z_scores)"
   ]
  },
  {
   "cell_type": "code",
   "execution_count": 30,
   "id": "21d7692f-ee74-4274-bd64-bbf860a7bcb6",
   "metadata": {},
   "outputs": [
    {
     "name": "stdout",
     "output_type": "stream",
     "text": [
      "\n",
      "DataFrame after removing outliers:\n",
      "      A  B\n",
      "0     1  2\n",
      "1     2  3\n",
      "2     3  4\n",
      "3  1000  5\n"
     ]
    }
   ],
   "source": [
    "# Removing outliers (where Z-score > 3)\n",
    "df_no_outliers = df[(z_scores < 3).all(axis=1)]\n",
    "print(\"\\nDataFrame after removing outliers:\")\n",
    "print(df_no_outliers)"
   ]
  },
  {
   "cell_type": "markdown",
   "id": "3b50c0b9-fbd4-4e18-ba4c-8ff977dd4252",
   "metadata": {},
   "source": [
    "Interpreting Z-scores:\n",
    "Z = 0: The data point is exactly at the mean.\n",
    "\n",
    "Z > 0: The data point is above the mean.\n",
    "\n",
    "Z < 0: The data point is below the mean.\n",
    "\n",
    "Z = 1: The data point is one standard deviation above the mean.\n",
    "\n",
    "Z = -1: The data point is one standard deviation below the mean.\n",
    "\n",
    "Z > 2 or Z < -2: The data point is relatively far from the mean, and could be considered unusual.\n",
    "\n",
    "Z > 3 or Z < -3: The data point is very far from the mean, and is typically considered an outlier."
   ]
  },
  {
   "cell_type": "code",
   "execution_count": 32,
   "id": "8799a194-510b-4706-afbe-974d5cea0ee4",
   "metadata": {},
   "outputs": [],
   "source": [
    "#IQR\n",
    "import pandas as pd\n",
    "\n",
    "# Example DataFrame\n",
    "data = {'A': [10, 12, 14, 16, 18, 20, 1000], 'B': [5, 6, 7, 8, 9, 10, 500]}\n",
    "df = pd.DataFrame(data)"
   ]
  },
  {
   "cell_type": "code",
   "execution_count": 34,
   "id": "a0edf997-16f2-4bca-a5d3-21a7f1f86c84",
   "metadata": {},
   "outputs": [],
   "source": [
    "# Identify outliers using IQR\n",
    "Q1 = df.quantile(0.25)\n",
    "Q3 = df.quantile(0.75)\n",
    "IQR = Q3 - Q1"
   ]
  },
  {
   "cell_type": "code",
   "execution_count": 36,
   "id": "33085f1b-3038-43e5-8715-4d37c776d362",
   "metadata": {},
   "outputs": [],
   "source": [
    "# Filtering out outliers\n",
    "df_no_outliers = df[~((df < (Q1 - 1.5 * IQR)) |(df > (Q3 + 1.5 * IQR))).any(axis=1)]\n",
    "\n"
   ]
  },
  {
   "cell_type": "code",
   "execution_count": 38,
   "id": "7b80b1e7-6339-4772-8728-2b3be8037217",
   "metadata": {},
   "outputs": [
    {
     "name": "stdout",
     "output_type": "stream",
     "text": [
      "Original DataFrame:\n",
      "      A    B\n",
      "0    10    5\n",
      "1    12    6\n",
      "2    14    7\n",
      "3    16    8\n",
      "4    18    9\n",
      "5    20   10\n",
      "6  1000  500\n",
      "\n",
      "DataFrame after removing outliers:\n",
      "    A   B\n",
      "0  10   5\n",
      "1  12   6\n",
      "2  14   7\n",
      "3  16   8\n",
      "4  18   9\n",
      "5  20  10\n"
     ]
    }
   ],
   "source": [
    "# Original DataFrame\n",
    "print(\"Original DataFrame:\")\n",
    "print(df)\n",
    "\n",
    "# DataFrame after removing outliers\n",
    "print(\"\\nDataFrame after removing outliers:\")\n",
    "print(df_no_outliers)"
   ]
  }
 ],
 "metadata": {
  "kernelspec": {
   "display_name": "Python 3 (ipykernel)",
   "language": "python",
   "name": "python3"
  },
  "language_info": {
   "codemirror_mode": {
    "name": "ipython",
    "version": 3
   },
   "file_extension": ".py",
   "mimetype": "text/x-python",
   "name": "python",
   "nbconvert_exporter": "python",
   "pygments_lexer": "ipython3",
   "version": "3.12.4"
  }
 },
 "nbformat": 4,
 "nbformat_minor": 5
}
